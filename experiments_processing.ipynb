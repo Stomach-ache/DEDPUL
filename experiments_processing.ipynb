{
 "cells": [
  {
   "cell_type": "markdown",
   "metadata": {},
   "source": [
    "Formal analysis of statistical significance."
   ]
  },
  {
   "cell_type": "code",
   "execution_count": 5,
   "metadata": {},
   "outputs": [],
   "source": [
    "import numpy as np\n",
    "import pandas as pd\n",
    "\n",
    "import matplotlib.pyplot as plt\n",
    "import matplotlib.gridspec as gridspec\n",
    "from matplotlib.lines import Line2D\n",
    "%matplotlib inline\n",
    "from IPython import display\n",
    "\n",
    "import random\n",
    "from sklearn.metrics import accuracy_score, log_loss, mean_absolute_error, mean_squared_error, brier_score_loss\n",
    "from sklearn.metrics import precision_score, recall_score, roc_auc_score, balanced_accuracy_score\n",
    "\n",
    "from scipy.stats import probplot, t, wilcoxon, \n",
    "\n",
    "from algorithms import *\n",
    "from utils import *\n",
    "from KMPE import *\n",
    "from NN_functions import *\n",
    "\n",
    "from tqdm import tqdm_notebook as tqdm\n",
    "\n",
    "import warnings\n",
    "warnings.filterwarnings('ignore')"
   ]
  },
  {
   "cell_type": "code",
   "execution_count": 6,
   "metadata": {},
   "outputs": [],
   "source": [
    "def normalize_by_max(x, y):\n",
    "    return (x - y) / np.max([x, y], axis=0)\n",
    "\n",
    "def wilcoxon_n(x, y, **kwargs):\n",
    "    return wilcoxon(normalize_by_max(x, y), **kwargs)"
   ]
  },
  {
   "cell_type": "code",
   "execution_count": 8,
   "metadata": {},
   "outputs": [],
   "source": [
    "# Hypotheses:\n",
    "# - DEDPUL (proposed) outperforms EN and KM (state-of-the-art) on Mixture Proportions Estimation\n",
    "# - DEDPUL (proposed) outperforms EN and nnRE (state-of-the-art) on Positive-Unlabeled Classification\n",
    "# - Proposed procedure of hyperparamer tuning improves DEDPUL performance\n",
    "# - DEDPUL is robust to choice of hyperparameters\n",
    "# - Proposed modification of nnRE improves its performance on Positive-Unlabeled Classification\n",
    "# - Proposed modifications of EN improve its performance on Mixture Proportions Estimation"
   ]
  },
  {
   "cell_type": "markdown",
   "metadata": {},
   "source": [
    "### alphastar data"
   ]
  },
  {
   "cell_type": "code",
   "execution_count": 23,
   "metadata": {},
   "outputs": [],
   "source": [
    "res_pivot_alpha = pd.read_csv('raw_data//alpha_synth_raw.csv', decimal=',', sep=';')\n",
    "res_pivot_alpha.set_index(['dataset', 'ds', 'dmu', 'alpha', 'cons_alpha', 'random_state'], inplace=True)"
   ]
  },
  {
   "cell_type": "markdown",
   "metadata": {},
   "source": [
    "## zero data"
   ]
  },
  {
   "cell_type": "code",
   "execution_count": 25,
   "metadata": {},
   "outputs": [],
   "source": [
    "res_zero = pd.read_csv('raw_data//alpha_synth_zero_raw.csv', decimal=',', sep=';')\n",
    "res_zero.set_index(['dataset', 'ds', 'dmu', 'alpha', 'cons_alpha', 'random_state'], inplace=True)"
   ]
  },
  {
   "cell_type": "markdown",
   "metadata": {},
   "source": [
    "### alpha data"
   ]
  },
  {
   "cell_type": "code",
   "execution_count": 28,
   "metadata": {},
   "outputs": [],
   "source": [
    "res_pivot_alpha_uci = pd.read_csv('raw_data//alpha_real_raw.csv', decimal=',', sep=';')\n",
    "res_pivot_alpha_uci.set_index(['dataset', 'alpha', 'random_state'], inplace=True)"
   ]
  },
  {
   "cell_type": "markdown",
   "metadata": {},
   "source": [
    "### mae data"
   ]
  },
  {
   "cell_type": "code",
   "execution_count": 31,
   "metadata": {},
   "outputs": [],
   "source": [
    "res_pivot_mae = pd.read_csv('raw_data//mae_synth_raw.csv', decimal=',', sep=';')\n",
    "res_pivot_mae.set_index(['dataset', 'ds', 'dmu', 'alpha', 'cons_alpha', 'random_state'], inplace=True)"
   ]
  },
  {
   "cell_type": "markdown",
   "metadata": {},
   "source": [
    "### accuracy data"
   ]
  },
  {
   "cell_type": "code",
   "execution_count": 32,
   "metadata": {},
   "outputs": [],
   "source": [
    "res_pivot_acc = pd.read_csv('raw_data//acc_real_raw.csv', decimal=',', sep=';')\n",
    "res_pivot_acc.set_index(['dataset', 'alpha', 'random_state'], inplace=True)"
   ]
  },
  {
   "cell_type": "markdown",
   "metadata": {},
   "source": [
    "### DEDPUL (proposed) outperforms KM (state-of-the-art) and EN on Mixture Proportions Estimation"
   ]
  },
  {
   "cell_type": "code",
   "execution_count": 35,
   "metadata": {},
   "outputs": [
    {
     "name": "stdout",
     "output_type": "stream",
     "text": [
      "alpha star\n"
     ]
    },
    {
     "data": {
      "text/plain": [
       "(WilcoxonResult(statistic=57384.0, pvalue=0.14001351392237046),\n",
       " WilcoxonResult(statistic=757.0, pvalue=1.7104825588751473e-81),\n",
       " WilcoxonResult(statistic=35273.0, pvalue=6.404626360432766e-17),\n",
       " WilcoxonResult(statistic=40923.0, pvalue=1.892967819776349e-11),\n",
       " WilcoxonResult(statistic=27603.0, pvalue=2.726192579653819e-26),\n",
       " WilcoxonResult(statistic=53986.0, pvalue=0.04166447958885208))"
      ]
     },
     "execution_count": 35,
     "metadata": {},
     "output_type": "execute_result"
    }
   ],
   "source": [
    "print('alpha star')\n",
    "wilcoxon_n(res_pivot_alpha['dedpul'].values, res_pivot_alpha['KM_2'].values), \\\n",
    "wilcoxon_n(res_pivot_alpha['dedpul'].values, res_pivot_alpha['e1_en'].values), \\\n",
    "wilcoxon_n(res_pivot_alpha['dedpul'].values, res_pivot_alpha['e3_en'].values), \\\n",
    "wilcoxon_n(res_pivot_alpha['dedpul'].values, res_pivot_alpha['em_en'].values), \\\n",
    "wilcoxon_n(res_pivot_alpha['dedpul'].values, res_pivot_alpha['baseline_dedpul'].values), \\\n",
    "wilcoxon_n(res_pivot_alpha['dedpul'].values, res_pivot_alpha['random_dedpul'].values)"
   ]
  },
  {
   "cell_type": "code",
   "execution_count": 36,
   "metadata": {},
   "outputs": [
    {
     "data": {
      "text/plain": [
       "WilcoxonResult(statistic=30133.0, pvalue=3.0962921098951316e-05)"
      ]
     },
     "execution_count": 36,
     "metadata": {},
     "output_type": "execute_result"
    }
   ],
   "source": [
    "wilcoxon_n(res_pivot_alpha.reset_index()[((res_pivot_alpha.reset_index()['dataset'] != 'normal') | \n",
    "                                         ((res_pivot_alpha.reset_index()['dmu'] != 1) &\n",
    "                                          (res_pivot_alpha.reset_index()['dmu'] != 2)))]['dedpul'].values, \n",
    "          res_pivot_alpha.reset_index()[((res_pivot_alpha.reset_index()['dataset'] != 'normal') | \n",
    "                                         ((res_pivot_alpha.reset_index()['dmu'] != 1) & \n",
    "                                          (res_pivot_alpha.reset_index()['dmu'] != 2)))]['KM_2'].values)"
   ]
  },
  {
   "cell_type": "markdown",
   "metadata": {},
   "source": [
    "dedpul outperforms all EN and baseline_dedpul; inconclusive for KM, but KM performs better on unreliable N(1, 1) and N(2, 1), and if those are excluded, DEDPUL outperforms KM"
   ]
  },
  {
   "cell_type": "code",
   "execution_count": 37,
   "metadata": {},
   "outputs": [
    {
     "name": "stdout",
     "output_type": "stream",
     "text": [
      "alpha\n"
     ]
    },
    {
     "data": {
      "text/plain": [
       "(WilcoxonResult(statistic=21579.5, pvalue=1.291862011533854e-58),\n",
       " WilcoxonResult(statistic=3829.0, pvalue=2.8539393823792606e-91),\n",
       " WilcoxonResult(statistic=10525.0, pvalue=2.1523111321731132e-78),\n",
       " WilcoxonResult(statistic=25888.5, pvalue=1.753769388178255e-51),\n",
       " WilcoxonResult(statistic=27338.0, pvalue=2.957653786474387e-49),\n",
       " WilcoxonResult(statistic=79611.5, pvalue=0.0679519827947525))"
      ]
     },
     "execution_count": 37,
     "metadata": {},
     "output_type": "execute_result"
    }
   ],
   "source": [
    "print('alpha')\n",
    "wilcoxon_n(res_pivot_alpha_uci['dedpul'].values, res_pivot_alpha_uci['KM_2'].values), \\\n",
    "wilcoxon_n(res_pivot_alpha_uci['dedpul'].values, res_pivot_alpha_uci['e1_en'].values), \\\n",
    "wilcoxon_n(res_pivot_alpha_uci['dedpul'].values, res_pivot_alpha_uci['e3_en'].values), \\\n",
    "wilcoxon_n(res_pivot_alpha_uci['dedpul'].values, res_pivot_alpha_uci['em_en'].values), \\\n",
    "wilcoxon_n(res_pivot_alpha_uci['dedpul'].values, res_pivot_alpha_uci['baseline_dedpul'].values), \\\n",
    "wilcoxon_n(res_pivot_alpha_uci['dedpul'].values, res_pivot_alpha_uci['random_dedpul'].values)"
   ]
  },
  {
   "cell_type": "markdown",
   "metadata": {},
   "source": [
    "dedpul outperforms KM, all EN, and baseline_dedpul"
   ]
  },
  {
   "cell_type": "markdown",
   "metadata": {},
   "source": [
    "Conclusion: dedpul outperforms everything in MPE, except random_dedpul, which performs indistinguishably"
   ]
  },
  {
   "cell_type": "markdown",
   "metadata": {},
   "source": [
    "### Proposed modification of EN improves its performance on Mixture Proportions Estimation"
   ]
  },
  {
   "cell_type": "code",
   "execution_count": 38,
   "metadata": {},
   "outputs": [
    {
     "name": "stdout",
     "output_type": "stream",
     "text": [
      "alpha star\n"
     ]
    },
    {
     "data": {
      "text/plain": [
       "(WilcoxonResult(statistic=16695.0, pvalue=1.3141443263091014e-45),\n",
       " WilcoxonResult(statistic=8159.0, pvalue=1.0420785034169878e-63),\n",
       " WilcoxonResult(statistic=41792.0, pvalue=1.6918201009192741e-10))"
      ]
     },
     "execution_count": 38,
     "metadata": {},
     "output_type": "execute_result"
    }
   ],
   "source": [
    "print('alpha star')\n",
    "wilcoxon_n(res_pivot_alpha['e3_en'].values, res_pivot_alpha['e1_en'].values), \\\n",
    "wilcoxon_n(res_pivot_alpha['em_en'].values, res_pivot_alpha['e1_en'].values), \\\n",
    "wilcoxon_n(res_pivot_alpha['em_en'].values, res_pivot_alpha['e3_en'].values)"
   ]
  },
  {
   "cell_type": "code",
   "execution_count": 39,
   "metadata": {},
   "outputs": [
    {
     "name": "stdout",
     "output_type": "stream",
     "text": [
      "alpha\n"
     ]
    },
    {
     "data": {
      "text/plain": [
       "(WilcoxonResult(statistic=76163.0, pvalue=0.0009924722708245708),\n",
       " WilcoxonResult(statistic=36016.0, pvalue=5.56981417231352e-37),\n",
       " WilcoxonResult(statistic=54855.5, pvalue=9.683064760928584e-17))"
      ]
     },
     "execution_count": 39,
     "metadata": {},
     "output_type": "execute_result"
    }
   ],
   "source": [
    "print('alpha')\n",
    "wilcoxon_n(res_pivot_alpha_uci['e3_en'].values, res_pivot_alpha_uci['e1_en'].values), \\\n",
    "wilcoxon_n(res_pivot_alpha_uci['em_en'].values, res_pivot_alpha_uci['e1_en'].values), \\\n",
    "wilcoxon_n(res_pivot_alpha_uci['em_en'].values, res_pivot_alpha_uci['e3_en'].values)"
   ]
  },
  {
   "cell_type": "markdown",
   "metadata": {},
   "source": [
    "Conclusion: em outperforms (?) e3 outperforms e1"
   ]
  },
  {
   "cell_type": "markdown",
   "metadata": {},
   "source": [
    "### DEDPUL (proposed) outperforms EN and nnRE (state-of-the-art) on Positive-Unlabeled Classification"
   ]
  },
  {
   "cell_type": "code",
   "execution_count": 40,
   "metadata": {},
   "outputs": [
    {
     "name": "stdout",
     "output_type": "stream",
     "text": [
      "mae\n"
     ]
    },
    {
     "data": {
      "text/plain": [
       "(WilcoxonResult(statistic=5101.0, pvalue=6.476274886799269e-70),\n",
       " WilcoxonResult(statistic=49267.0, pvalue=0.00014219403356468044),\n",
       " WilcoxonResult(statistic=48490.5, pvalue=2.198300433686926e-05),\n",
       " WilcoxonResult(statistic=21268.0, pvalue=9.796868023663647e-36))"
      ]
     },
     "execution_count": 40,
     "metadata": {},
     "output_type": "execute_result"
    }
   ],
   "source": [
    "print('mae')\n",
    "wilcoxon_n(res_pivot_mae['dedpul'].values, res_pivot_mae['sigmoid_nnre'].values), \\\n",
    "wilcoxon_n(res_pivot_mae['dedpul'].values, res_pivot_mae['brier_nnre'].values), \\\n",
    "wilcoxon_n(res_pivot_mae['dedpul'].values, res_pivot_mae['en'].values), \\\n",
    "wilcoxon_n(res_pivot_mae['dedpul'].values, res_pivot_mae['random_dedpul'].values)"
   ]
  },
  {
   "cell_type": "code",
   "execution_count": 41,
   "metadata": {
    "scrolled": true
   },
   "outputs": [
    {
     "data": {
      "text/plain": [
       "(WilcoxonResult(statistic=20964.0, pvalue=3.3780882164118944e-16),\n",
       " WilcoxonResult(statistic=20377.0, pvalue=1.0070106196053973e-16))"
      ]
     },
     "execution_count": 41,
     "metadata": {},
     "output_type": "execute_result"
    }
   ],
   "source": [
    "wilcoxon_n(res_pivot_mae.reset_index()[((res_pivot_mae.reset_index()['dataset'] != 'normal') | \n",
    "                                         ((res_pivot_mae.reset_index()['dmu'] != 1) &\n",
    "                                          (res_pivot_mae.reset_index()['dmu'] != 2)))]['dedpul'].values, \n",
    "          res_pivot_mae.reset_index()[((res_pivot_mae.reset_index()['dataset'] != 'normal') | \n",
    "                                         ((res_pivot_mae.reset_index()['dmu'] != 1) & \n",
    "                                          (res_pivot_mae.reset_index()['dmu'] != 2)))]['en'].values), \\\n",
    "wilcoxon_n(res_pivot_mae.reset_index()[((res_pivot_mae.reset_index()['dataset'] != 'normal') | \n",
    "                                         ((res_pivot_mae.reset_index()['dmu'] != 1) &\n",
    "                                          (res_pivot_mae.reset_index()['dmu'] != 2)))]['dedpul'].values, \n",
    "          res_pivot_mae.reset_index()[((res_pivot_mae.reset_index()['dataset'] != 'normal') | \n",
    "                                         ((res_pivot_mae.reset_index()['dmu'] != 1) & \n",
    "                                          (res_pivot_mae.reset_index()['dmu'] != 2)))]['brier_nnre'].values)"
   ]
  },
  {
   "cell_type": "markdown",
   "metadata": {},
   "source": [
    "dedpul outperforms sigmoid_nnre; inconclusive for EN and brier_nnre, but they outperform DEDPUL on unreliable N(0, 1), N(0, 2), and if those are excluded, DEDPUL outperforms EN and brier_nnre"
   ]
  },
  {
   "cell_type": "code",
   "execution_count": 42,
   "metadata": {},
   "outputs": [
    {
     "name": "stdout",
     "output_type": "stream",
     "text": [
      "accuracy\n"
     ]
    },
    {
     "data": {
      "text/plain": [
       "(WilcoxonResult(statistic=53883.5, pvalue=1.7638644851509278e-10),\n",
       " WilcoxonResult(statistic=70956.0, pvalue=0.02448820050726236),\n",
       " WilcoxonResult(statistic=20388.0, pvalue=1.059047312889711e-55),\n",
       " WilcoxonResult(statistic=37662.5, pvalue=1.0464645164573003e-07))"
      ]
     },
     "execution_count": 42,
     "metadata": {},
     "output_type": "execute_result"
    }
   ],
   "source": [
    "print('accuracy')\n",
    "wilcoxon_n(res_pivot_acc['dedpul'].values, res_pivot_acc['sigmoid_nnre'].values), \\\n",
    "wilcoxon_n(res_pivot_acc['brier_nnre'].values, res_pivot_acc['dedpul'].values), \\\n",
    "wilcoxon_n(res_pivot_acc['dedpul'].values, res_pivot_acc['en'].values), \\\n",
    "wilcoxon_n(res_pivot_acc['dedpul'].values, res_pivot_acc['random_dedpul'].values)"
   ]
  },
  {
   "cell_type": "markdown",
   "metadata": {},
   "source": [
    "(8) dedpul outperforms en and sigmoid_nnre; inconclusive for brier_nnre"
   ]
  },
  {
   "cell_type": "markdown",
   "metadata": {},
   "source": [
    "Conclusion: dedpul outperforms brier nnre and sigmoid nnre and performs indistinguishably from brier nnre"
   ]
  },
  {
   "cell_type": "markdown",
   "metadata": {},
   "source": [
    "### Proposed modification of nnRE improves its performance on Positive-Unlabeled Classification"
   ]
  },
  {
   "cell_type": "code",
   "execution_count": 43,
   "metadata": {},
   "outputs": [
    {
     "name": "stdout",
     "output_type": "stream",
     "text": [
      "mae\n"
     ]
    },
    {
     "data": {
      "text/plain": [
       "(WilcoxonResult(statistic=16636.0, pvalue=1.0123054923175336e-45),\n",
       " WilcoxonResult(statistic=19697.0, pvalue=2.9904187092357425e-40))"
      ]
     },
     "execution_count": 43,
     "metadata": {},
     "output_type": "execute_result"
    }
   ],
   "source": [
    "print('mae')\n",
    "wilcoxon_n(res_pivot_mae['brier_nnre'].values, res_pivot_mae['sigmoid_nnre'].values), \\\n",
    "wilcoxon_n(res_pivot_mae['en'].values, res_pivot_mae['sigmoid_nnre'].values)"
   ]
  },
  {
   "cell_type": "code",
   "execution_count": 44,
   "metadata": {},
   "outputs": [
    {
     "name": "stdout",
     "output_type": "stream",
     "text": [
      "accuracy\n"
     ]
    },
    {
     "data": {
      "text/plain": [
       "WilcoxonResult(statistic=31435.0, pvalue=1.367973471914338e-29)"
      ]
     },
     "execution_count": 44,
     "metadata": {},
     "output_type": "execute_result"
    }
   ],
   "source": [
    "print('accuracy')\n",
    "wilcoxon_n(res_pivot_acc['brier_nnre'].values, res_pivot_acc['sigmoid_nnre'].values)"
   ]
  },
  {
   "cell_type": "markdown",
   "metadata": {},
   "source": [
    "conclusion: brier_nnre outperforms sigmoid_nnre"
   ]
  },
  {
   "cell_type": "markdown",
   "metadata": {},
   "source": [
    "### Proposed procedure of hyperparamer tuning improves DEDPUL performance\n",
    "### DEDPUL is robust to the choice of hyperparameters"
   ]
  },
  {
   "cell_type": "code",
   "execution_count": 45,
   "metadata": {},
   "outputs": [
    {
     "data": {
      "text/plain": [
       "(WilcoxonResult(statistic=53986.0, pvalue=0.04166447958885208),\n",
       " WilcoxonResult(statistic=79611.5, pvalue=0.0679519827947525),\n",
       " WilcoxonResult(statistic=21268.0, pvalue=9.796868023663647e-36),\n",
       " WilcoxonResult(statistic=37662.5, pvalue=1.0464645164573003e-07))"
      ]
     },
     "execution_count": 45,
     "metadata": {},
     "output_type": "execute_result"
    }
   ],
   "source": [
    "wilcoxon_n(res_pivot_alpha['dedpul'].values, res_pivot_alpha['random_dedpul'].values), \\\n",
    "wilcoxon_n(res_pivot_alpha_uci['dedpul'].values, res_pivot_alpha_uci['random_dedpul'].values), \\\n",
    "wilcoxon_n(res_pivot_mae['dedpul'].values, res_pivot_mae['random_dedpul'].values), \\\n",
    "wilcoxon_n(res_pivot_acc['dedpul'].values, res_pivot_acc['random_dedpul'].values)"
   ]
  },
  {
   "cell_type": "code",
   "execution_count": 46,
   "metadata": {},
   "outputs": [
    {
     "data": {
      "text/plain": [
       "(WilcoxonResult(statistic=62162.0, pvalue=0.8860999645853749),\n",
       " WilcoxonResult(statistic=24513.0, pvalue=7.37324991318434e-54),\n",
       " WilcoxonResult(statistic=54363.0, pvalue=0.010586689779794529),\n",
       " WilcoxonResult(statistic=64747.0, pvalue=1.814738205562641e-05),\n",
       " '',\n",
       " WilcoxonResult(statistic=43814.0, pvalue=5.897211615589959e-09),\n",
       " WilcoxonResult(statistic=28006.0, pvalue=1.829195161478817e-48),\n",
       " WilcoxonResult(statistic=58953.0, pvalue=0.2882988598123275),\n",
       " WilcoxonResult(statistic=30029.0, pvalue=9.172837930755226e-42))"
      ]
     },
     "execution_count": 46,
     "metadata": {},
     "output_type": "execute_result"
    }
   ],
   "source": [
    "wilcoxon_n(res_pivot_alpha['random_dedpul'].values, res_pivot_alpha['KM_2'].values), \\\n",
    "wilcoxon_n(res_pivot_alpha_uci['random_dedpul'].values, res_pivot_alpha_uci['KM_2'].values), \\\n",
    "wilcoxon_n(res_pivot_mae['random_dedpul'].values, res_pivot_mae['brier_nnre'].values), \\\n",
    "wilcoxon_n(res_pivot_acc['random_dedpul'].values, res_pivot_acc['brier_nnre'].values), \\\n",
    "'', \\\n",
    "wilcoxon_n(res_pivot_alpha['random_dedpul'].values, res_pivot_alpha['em_en'].values), \\\n",
    "wilcoxon_n(res_pivot_alpha_uci['random_dedpul'].values, res_pivot_alpha_uci['em_en'].values), \\\n",
    "wilcoxon_n(res_pivot_mae['random_dedpul'].values, res_pivot_mae['en'].values), \\\n",
    "wilcoxon_n(res_pivot_acc['random_dedpul'].values, res_pivot_acc['en'].values)"
   ]
  },
  {
   "cell_type": "code",
   "execution_count": 47,
   "metadata": {},
   "outputs": [
    {
     "data": {
      "text/plain": [
       "(WilcoxonResult(statistic=32344.0, pvalue=0.0008018300983706339),\n",
       " WilcoxonResult(statistic=35314.0, pvalue=0.03859108446287726),\n",
       " WilcoxonResult(statistic=31250.0, pvalue=0.0001750122716522826))"
      ]
     },
     "execution_count": 47,
     "metadata": {},
     "output_type": "execute_result"
    }
   ],
   "source": [
    "wilcoxon_n(res_pivot_alpha.reset_index()[((res_pivot_alpha.reset_index()['dataset'] != 'normal') | \n",
    "                                         ((res_pivot_alpha.reset_index()['dmu'] != 1) &\n",
    "                                          (res_pivot_alpha.reset_index()['dmu'] != 2)))]['random_dedpul'].values, \n",
    "          res_pivot_alpha.reset_index()[((res_pivot_alpha.reset_index()['dataset'] != 'normal') | \n",
    "                                         ((res_pivot_alpha.reset_index()['dmu'] != 1) & \n",
    "                                          (res_pivot_alpha.reset_index()['dmu'] != 2)))]['KM_2'].values), \\\n",
    "\n",
    "wilcoxon_n(res_pivot_mae.reset_index()[((res_pivot_mae.reset_index()['dataset'] != 'normal') | \n",
    "                                         ((res_pivot_mae.reset_index()['dmu'] != 1) &\n",
    "                                          (res_pivot_mae.reset_index()['dmu'] != 2)))]['random_dedpul'].values, \n",
    "          res_pivot_mae.reset_index()[((res_pivot_mae.reset_index()['dataset'] != 'normal') | \n",
    "                                         ((res_pivot_mae.reset_index()['dmu'] != 1) & \n",
    "                                          (res_pivot_mae.reset_index()['dmu'] != 2)))]['brier_nnre'].values), \\\n",
    "wilcoxon_n(res_pivot_mae.reset_index()[((res_pivot_mae.reset_index()['dataset'] != 'normal') | \n",
    "                                         ((res_pivot_mae.reset_index()['dmu'] != 1) &\n",
    "                                          (res_pivot_mae.reset_index()['dmu'] != 2)))]['random_dedpul'].values, \n",
    "          res_pivot_mae.reset_index()[((res_pivot_mae.reset_index()['dataset'] != 'normal') | \n",
    "                                         ((res_pivot_mae.reset_index()['dmu'] != 1) & \n",
    "                                          (res_pivot_mae.reset_index()['dmu'] != 2)))]['en'].values)"
   ]
  },
  {
   "cell_type": "markdown",
   "metadata": {},
   "source": [
    "Tuning works: tuned DEDPUL outperforms random on mae (even with excluded N(1, 1), N(2, 1)) and acc\n",
    "\n",
    "DEDPUL is robast: tuned vs random does not influence alpha significantly; for random choice of parameters all previous findings and comparisons hold, except on mae DEDPUL still indistinguishable from EN and brier even when N(1, 1) and N(2, 1) are dropped, and on acc random_dedpul is outperformed by brier"
   ]
  },
  {
   "cell_type": "code",
   "execution_count": null,
   "metadata": {},
   "outputs": [],
   "source": []
  }
 ],
 "metadata": {
  "kernelspec": {
   "display_name": "Python 3",
   "language": "python",
   "name": "python3"
  },
  "language_info": {
   "codemirror_mode": {
    "name": "ipython",
    "version": 3
   },
   "file_extension": ".py",
   "mimetype": "text/x-python",
   "name": "python",
   "nbconvert_exporter": "python",
   "pygments_lexer": "ipython3",
   "version": "3.6.5"
  }
 },
 "nbformat": 4,
 "nbformat_minor": 2
}
