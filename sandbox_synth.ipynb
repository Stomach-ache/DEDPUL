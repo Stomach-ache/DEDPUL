{
 "cells": [
  {
   "cell_type": "markdown",
   "metadata": {},
   "source": [
    "Here you may get familiar with PU learning, play with mixtures of laplace and normal distributions, test DEDPUL and other methods."
   ]
  },
  {
   "cell_type": "markdown",
   "metadata": {},
   "source": [
    "The notebook is based on (Ivanov, 2018). Note that in the original paper proportions and posteriors of Positive class are presented and estimated, while methods in this notebook by default estimate those for Negative class. To convert, just substract the estimates from 1."
   ]
  },
  {
   "cell_type": "code",
   "execution_count": 43,
   "metadata": {
    "scrolled": false
   },
   "outputs": [],
   "source": [
    "import numpy as np\n",
    "import pandas as pd\n",
    "from scipy.stats import norm, laplace\n",
    "import random\n",
    "\n",
    "from sklearn.metrics import accuracy_score, log_loss, mean_absolute_error, mean_squared_error, confusion_matrix\n",
    "from sklearn.metrics import precision_score, recall_score, roc_auc_score, brier_score_loss, f1_score\n",
    "\n",
    "import matplotlib.pyplot as plt\n",
    "%matplotlib inline\n",
    "from matplotlib.lines import Line2D\n",
    "from IPython import display\n",
    "\n",
    "from algorithms import *\n",
    "from utils import *\n",
    "from KMPE import *\n",
    "from NN_functions import *\n",
    "\n",
    "import warnings\n",
    "warnings.filterwarnings('ignore')"
   ]
  },
  {
   "cell_type": "markdown",
   "metadata": {},
   "source": [
    "# What is PU learning?"
   ]
  },
  {
   "cell_type": "markdown",
   "metadata": {},
   "source": [
    "Positive-Unlabeled (PU) Classification is a problem of semi-supervised learning on the data that is corrupted in a specific way. Unlike supervised binary classification, PU classification does not require labeled samples from both classes for training. Instead, two samples are required: a labeled sample from Positive (P) class, and an Unlabeled (U) sample with mixed data from both Positive (P) and Negative (N) classes with generally unknown mixing proportions. The objectives are: (i) to estimate the proportions of P and N in U and (ii) to classify it, i.e. to assign probability of being P rather than N for each instance in U. The first problem is reffered to as Mixture Proportions Estimation; the second - as PU Classification.\n",
    "\n",
    "Several methods that solve these problems are highlighted in this notebook."
   ]
  },
  {
   "cell_type": "markdown",
   "metadata": {},
   "source": [
    "# Data"
   ]
  },
  {
   "cell_type": "code",
   "execution_count": 44,
   "metadata": {},
   "outputs": [],
   "source": [
    "# specify distributions to sample data from.\n",
    "\n",
    "mode = 'normal'\n",
    "# mode ='laplace'"
   ]
  },
  {
   "cell_type": "code",
   "execution_count": 84,
   "metadata": {},
   "outputs": [],
   "source": [
    "# feel free to play with parameters of distributions;\n",
    "# initially we recommend to stick to cases of either mu1=mu2 or s1=s2\n",
    "\n",
    "# centers and standard deviations of P and N distributions\n",
    "mu1 = 0\n",
    "s1 = 1\n",
    "mu2 = 4\n",
    "s2 = 1\n",
    "\n",
    "# alpha is proportion of N in U; (1 - alpha) is proportion of P in U; these will be unknown for methods below;\n",
    "# note that not alpha but alpha^* (computed below) is the proportion that the methods are supposed to identify \n",
    "# (find out why in the paper)\n",
    "alpha = 0.75\n",
    "\n",
    "if mode == 'normal':\n",
    "    p1 = lambda x: norm.pdf(x, mu1, s1)\n",
    "    p2 = lambda x: norm.pdf(x, mu2, s2)\n",
    "    pm = lambda x: p1(x) * (1 - alpha) + p2(x) * alpha\n",
    "elif mode == 'laplace':\n",
    "    p1 = lambda x: laplace.pdf(x, mu1, s1)\n",
    "    p2 = lambda x: laplace.pdf(x, mu2, s2)\n",
    "    pm = lambda x: p1(x) * (1 - alpha) + p2(x) * alpha"
   ]
  },
  {
   "cell_type": "code",
   "execution_count": 85,
   "metadata": {},
   "outputs": [
    {
     "data": {
      "text/plain": [
       "<matplotlib.legend.Legend at 0x123dd2b00>"
      ]
     },
     "execution_count": 85,
     "metadata": {},
     "output_type": "execute_result"
    },
    {
     "data": {
      "image/png": "[encoded data removed]",
      "text/plain": [
       "<Figure size 432x288 with 1 Axes>"
      ]
     },
     "metadata": {},
     "output_type": "display_data"
    }
   ],
   "source": [
    "# These are the distributions.\n",
    "\n",
    "plt.plot([x/100 for x in range(-1000, 1000)], [p1(x/100) for x in range(-1000, 1000)], 'b')\n",
    "plt.plot([x/100 for x in range(-1000, 1000)], [p2(x/100) for x in range(-1000, 1000)], 'g')\n",
    "plt.plot([x/100 for x in range(-1000, 1000)], [pm(x/100) for x in range(-1000, 1000)], 'r')\n",
    "\n",
    "plt.legend(handles=(Line2D([], [], linestyle='-', color='b'),\n",
    "                        Line2D([], [], linestyle='-', color='g'),\n",
    "                        Line2D([], [], linestyle='-', color='r')),\n",
    "               labels=('$f_p(x)$', '$f_n(x)$', '$f_u(x)$'),\n",
    "          fontsize='x-large')"
   ]
  },
  {
   "cell_type": "markdown",
   "metadata": {},
   "source": [
    "Lets generate samples from the Positive and the Unlabeled distributions $f_p(x)$ and $f_u(x)$. Remember, we don't have Negative data from $f_n(x)$."
   ]
  },
  {
   "cell_type": "code",
   "execution_count": 86,
   "metadata": {},
   "outputs": [],
   "source": [
    "if mode == 'normal':\n",
    "    sampler = np.random.normal\n",
    "elif mode == 'laplace':\n",
    "    sampler = np.random.laplace"
   ]
  },
  {
   "cell_type": "code",
   "execution_count": 87,
   "metadata": {},
   "outputs": [],
   "source": [
    "mix_size =2500\n",
    "pos_size = 500\n",
    "\n",
    "mix_data_test = np.append(sampler(mu1, s1, int(mix_size * (1 - alpha))), \n",
    "                          sampler(mu2, s2, int(mix_size * alpha)))\n",
    "pos_data_test = sampler(mu1, s1, int(pos_size))\n",
    "\n",
    "data_test = np.append(mix_data_test, pos_data_test).reshape((-1, 1))\n",
    "target_test = np.append(np.array([1] * mix_size), np.array([0] * pos_size))\n",
    "target_test_true = np.append(np.array([0] * int(mix_size * (1 - alpha))), np.array([1] * int(mix_size * alpha)))\n",
    "target_test_true = np.append(target_test_true, np.array([2] * pos_size))\n",
    "\n",
    "mix_data_test = mix_data_test.reshape([-1, 1])\n",
    "pos_data_test = pos_data_test.reshape([-1, 1])\n",
    "\n",
    "data_test = np.concatenate((data_test, target_test.reshape(-1, 1), target_test_true.reshape(-1, 1)), axis=1)\n",
    "np.random.shuffle(data_test)\n",
    "target_test = data_test[:, 1]\n",
    "target_test_true = data_test[:, 2]\n",
    "data_test = data_test[:, 0].reshape(-1, 1)"
   ]
  },
  {
   "cell_type": "code",
   "execution_count": 88,
   "metadata": {},
   "outputs": [
    {
     "name": "stdout",
     "output_type": "stream",
     "text": [
      "alpha* = 0.75\n"
     ]
    }
   ],
   "source": [
    "# here we may estimate ground truth alpha^* for limited number of cases: \n",
    "# laplace and normal distributions where either mean or std coincide.\n",
    "# alpha^* is the desired proportion that the methods are supposed to identify.\n",
    "\n",
    "cons_alpha = estimate_cons_alpha(mu2 - mu1, s2 / s1, alpha, mode)\n",
    "print('alpha* =', cons_alpha)"
   ]
  },
  {
   "cell_type": "markdown",
   "metadata": {},
   "source": [
    "# DEDPUL"
   ]
  },
  {
   "cell_type": "markdown",
   "metadata": {},
   "source": [
    "The short way:"
   ]
  },
  {
   "cell_type": "code",
   "execution_count": 112,
   "metadata": {},
   "outputs": [
    {
     "name": "stdout",
     "output_type": "stream",
     "text": [
      "alpha: 0.7457509794745755 \n",
      "error: 0.0042490205254245295\n"
     ]
    }
   ],
   "source": [
    "test_alpha, poster = estimate_poster_cv(data_test, target_test, estimator='dedpul', alpha=None,\n",
    "                                         estimate_poster_options={'disp': False},\n",
    "                                         estimate_diff_options={'tune': True,\n",
    "                                                                'tune_diff_options': {'max_evals': 20, 'verbose': False,\n",
    "                                                                                      'bw_mix_l': 0.01, 'bw_mix_h': 0.15, \n",
    "                                                                                      'bw_pos_l': 0.05, 'bw_pos_h': 0.25,\n",
    "                                                                                      'threshold_l': 0.55, 'threshold_h': 0.55,\n",
    "                                                                                      'k_neighbours_l': 100, \n",
    "                                                                                      'k_neighbours_h': 500,\n",
    "                                                                                      'metric': brier_score_loss, \n",
    "                                                                                      'if_round': False,\n",
    "                                                                                      'reweight': False}},\n",
    "                                         estimate_preds_cv_options={'cv': 3, 'n_networks': 10,\n",
    "                                                                    'lr': 0.0005, 'hid_dim': 32,\n",
    "                                                                    'n_hid_layers': 1, \n",
    "                                                                    'random_state': 0},\n",
    "                                         train_nn_options={'n_epochs': 100, 'batch_size': 16,\n",
    "                                                           'n_batches': 15, 'n_early_stop': 3, 'disp': False})\n",
    "\n",
    "print('alpha:', test_alpha, '\\nerror:', abs(test_alpha - cons_alpha))"
   ]
  },
  {
   "cell_type": "markdown",
   "metadata": {},
   "source": [
    "The long way:"
   ]
  },
  {
   "cell_type": "code",
   "execution_count": 93,
   "metadata": {
    "scrolled": true
   },
   "outputs": [
    {
     "name": "stdout",
     "output_type": "stream",
     "text": [
      "ac 0.7873333333333333\n",
      "brier 0.14569259496297102\n",
      "roc 0.8691191999999999\n"
     ]
    }
   ],
   "source": [
    "# estimate y(x), the predictions of NTC\n",
    "\n",
    "preds = estimate_preds_cv(data_test, target_test, n_networks=10,\n",
    "                          train_nn_options={'n_epochs': 200, 'batch_size': 16,\n",
    "                                            'n_batches': 15, 'n_early_stop': 3, 'disp': False, 'loss_function': 'log'})\n",
    "\n",
    "print('ac', accuracy_score(target_test, preds.round()))\n",
    "print('brier', brier_score_loss(target_test, preds))\n",
    "print('roc', roc_auc_score(target_test, preds))"
   ]
  },
  {
   "cell_type": "code",
   "execution_count": 94,
   "metadata": {},
   "outputs": [],
   "source": [
    "bw_mix = 0.05\n",
    "bw_pos = 0.15\n",
    "threshold = 0.55\n",
    "k_neighbours = 125"
   ]
  },
  {
   "cell_type": "code",
   "execution_count": 95,
   "metadata": {},
   "outputs": [
    {
     "name": "stdout",
     "output_type": "stream",
     "text": [
      "best params: 0.0602 0.2452 0.55 372\n"
     ]
    }
   ],
   "source": [
    "# estimate density ratio g_p(y)/g_u(y) with tuned bandwidths, apply heuristics\n",
    "\n",
    "diff = estimate_diff(preds, target_test, bw_mix, bw_pos, 'logit', threshold, k_neighbours,\n",
    "#                      tune=False, tune_diff_options=None)\n",
    "                     tune=True, tune_diff_options={'max_evals': 20, 'verbose': True,\n",
    "                                                   'bw_mix_l': 0.01, 'bw_mix_h': 0.15, \n",
    "                                                   'bw_pos_l': 0.05, 'bw_pos_h': 0.25,\n",
    "                                                   'threshold_l': 0.55, 'threshold_h': 0.55,\n",
    "                                                   'k_neighbours_l': 100, 'k_neighbours_h': 500,\n",
    "                                                   'metric': brier_score_loss, 'if_round': False})"
   ]
  },
  {
   "cell_type": "code",
   "execution_count": 96,
   "metadata": {},
   "outputs": [],
   "source": [
    "# plt.plot(preds[target_test==1], diff, 'bo')"
   ]
  },
  {
   "cell_type": "code",
   "execution_count": 111,
   "metadata": {
    "scrolled": true
   },
   "outputs": [
    {
     "name": "stdout",
     "output_type": "stream",
     "text": [
      "alpha: 0.7457509794745755 \n",
      "error: 0.0042490205254245295\n"
     ]
    }
   ],
   "source": [
    "# Estimate priors alpha^* and posteriors f^*(p | x) with EM algorithm (if converges) \n",
    "# or with alternative max_slope otherwise\n",
    "\n",
    "test_alpha, poster = estimate_poster_em(diff, mode='dedpul', converge=True, nonconverge=True, \n",
    "                                        max_diff=0.05, step=0.0025) # , alpha=cons_alpha\n",
    "print('alpha:', test_alpha, '\\nerror:', abs(test_alpha - cons_alpha))"
   ]
  },
  {
   "cell_type": "code",
   "execution_count": 98,
   "metadata": {
    "scrolled": true
   },
   "outputs": [
    {
     "data": {
      "text/plain": [
       "Text(0.5,0,'$y(x)$')"
      ]
     },
     "execution_count": 98,
     "metadata": {},
     "output_type": "execute_result"
    },
    {
     "data": {
      "image/png": "[encoded data removed]",
      "text/plain": [
       "<Figure size 432x288 with 1 Axes>"
      ]
     },
     "metadata": {},
     "output_type": "display_data"
    }
   ],
   "source": [
    "plt.plot(preds[target_test==1], poster, 'ro')\n",
    "plt.ylabel('$f(p \\mid x)$')\n",
    "plt.xlabel('$y(x)$')"
   ]
  },
  {
   "cell_type": "code",
   "execution_count": null,
   "metadata": {},
   "outputs": [],
   "source": []
  },
  {
   "cell_type": "markdown",
   "metadata": {},
   "source": [
    "Analyze results:"
   ]
  },
  {
   "cell_type": "code",
   "execution_count": 91,
   "metadata": {},
   "outputs": [
    {
     "name": "stdout",
     "output_type": "stream",
     "text": [
      "accuracy: 0.9808\n",
      "ROC-AUC: 0.9963310933333333\n",
      "brier: 0.016009623250151348\n",
      "true MAE: 0.009580895002702471\n",
      "true RMSE: 0.03481760929199832\n"
     ]
    }
   ],
   "source": [
    "# compute performance measures\n",
    "\n",
    "realistic_poster = np.apply_along_axis(lambda x: (pm(x) - p1(x) * (1 - cons_alpha)) / pm(x), -1, \n",
    "                    data_test[target_test_true != 2].reshape(-1,))\n",
    "realistic_poster[realistic_poster < 0] = 0\n",
    "\n",
    "print('accuracy:', \n",
    "      accuracy_score(target_test_true[target_test_true != 2], poster.round()))\n",
    "print('ROC-AUC:',\n",
    "      roc_auc_score(target_test_true[target_test_true != 2], poster))\n",
    "print('brier:',\n",
    "      brier_score_loss(target_test_true[target_test_true != 2], poster))\n",
    "print('true MAE:',\n",
    "      mean_absolute_error(realistic_poster, poster))\n",
    "print('true RMSE:',\n",
    "      np.sqrt(mean_squared_error(realistic_poster, poster)))"
   ]
  },
  {
   "cell_type": "code",
   "execution_count": 92,
   "metadata": {},
   "outputs": [
    {
     "data": {
      "text/plain": [
       "<matplotlib.legend.Legend at 0x10914c3c8>"
      ]
     },
     "execution_count": 92,
     "metadata": {},
     "output_type": "execute_result"
    },
    {
     "data": {
      "image/png": "[encoded data removed]",
      "text/plain": [
       "<Figure size 432x288 with 1 Axes>"
      ]
     },
     "metadata": {},
     "output_type": "display_data"
    }
   ],
   "source": [
    "# illustrate performance graphically. The closer red circles to black line - the better.\n",
    "\n",
    "plt.plot([x/100 for x in range(-1000, 1000)], [p1(x/100) for x in range(-1000, 1000)], 'b')\n",
    "plt.plot([x/100 for x in range(-1000, 1000)], [p2(x/100) for x in range(-1000, 1000)], 'g')\n",
    "plt.plot(data_test[target_test_true != 2], poster, 'ro')\n",
    "plt.plot([x/100 for x in range(-1000, 1000)], [max((pm(x/100) - p1(x/100) * (1 - cons_alpha)) / pm(x/100), 0)\n",
    "                                               for x in range(-1000, 1000)], 'k')\n",
    "\n",
    "plt.legend(handles=(Line2D([], [], linestyle='-', color='b'),\n",
    "                        Line2D([], [], linestyle='-', color='g'),\n",
    "                        Line2D([], [], linestyle='-', color='k'),\n",
    "                        Line2D([], [], color='r', marker='o')),\n",
    "               labels=('$f_p(x)$', '$f_n(x)$', '$f^*(p \\mid x)$', '$\\widetilde{f}^*(p \\mid x)$'),\n",
    "          fontsize='x-large')"
   ]
  },
  {
   "cell_type": "code",
   "execution_count": 83,
   "metadata": {},
   "outputs": [],
   "source": [
    "# # illustrate max_slope: the highest point on the second graph is the estimate \\alpha_n^*\n",
    "\n",
    "# posters = []\n",
    "# step = 0.005\n",
    "# for test_alpha_ in np.arange(0, 1+step, step):\n",
    "#     poster_ = 1 - diff * (1 - test_alpha_)\n",
    "#     poster_[poster_ < 0] = 0\n",
    "#     posters.append(np.mean(poster_) - test_alpha_)\n",
    "\n",
    "\n",
    "# fig, axs = plt.subplots(2, 1, sharex=False, sharey=False, figsize=(6, 10))\n",
    "# axs[0].plot(np.arange(0, 1+step, step), posters)\n",
    "# axs[1].plot(np.arange(2*step, 1+step, step), np.diff(np.diff(posters)))"
   ]
  },
  {
   "cell_type": "markdown",
   "metadata": {},
   "source": [
    "# EN"
   ]
  },
  {
   "cell_type": "code",
   "execution_count": 99,
   "metadata": {},
   "outputs": [
    {
     "name": "stdout",
     "output_type": "stream",
     "text": [
      "EN priors = 0.7679460044148877\n",
      "EN posters mean = 0.7679539011388046\n",
      "\n",
      "accuracy: 0.9688\n",
      "bac: 0.9429333333333334\n",
      "ROC-AUC: 0.9966911999999999\n",
      "brier: 0.0312\n",
      "MAE: 0.02314218976508471\n",
      "RMSE: 0.07080016027777604\n"
     ]
    }
   ],
   "source": [
    "# EN_alpha, EN_poster = estimate_poster_en(preds, target_test, alpha=None, estimator='e3', e3_quantile=0.95)\n",
    "\n",
    "EN_alpha, EN_poster = estimate_poster_em(preds=preds, target=target_test, mode='en', converge=True, nonconverge=True, \n",
    "                                         max_diff=0.05, step=0.0025)\n",
    "\n",
    "print('EN priors =', EN_alpha)\n",
    "print('EN posters mean =', np.mean(EN_poster))\n",
    "print()\n",
    "\n",
    "EN_realistic_poster = np.apply_along_axis(lambda x: (pm(x) - p1(x) * (1 - cons_alpha)) / pm(x), -1, \n",
    "                        data_test[target_test_true != 2].reshape(-1, ))\n",
    "\n",
    "print('accuracy:', \n",
    "      accuracy_score(target_test_true[target_test_true != 2], EN_poster.round()))\n",
    "print('bac:', \n",
    "      balanced_accuracy_score(target_test_true[target_test_true != 2], EN_poster.round()))\n",
    "print('ROC-AUC:',\n",
    "      roc_auc_score(target_test_true[target_test_true != 2], EN_poster))\n",
    "print('brier:',\n",
    "      brier_score_loss(target_test_true[target_test_true != 2], EN_poster.round()))\n",
    "print('MAE:',\n",
    "      mean_absolute_error(EN_realistic_poster, EN_poster))\n",
    "print('RMSE:',\n",
    "      np.sqrt(mean_squared_error(EN_realistic_poster, EN_poster)))"
   ]
  },
  {
   "cell_type": "code",
   "execution_count": 100,
   "metadata": {},
   "outputs": [
    {
     "data": {
      "text/plain": [
       "(0, 1)"
      ]
     },
     "execution_count": 100,
     "metadata": {},
     "output_type": "execute_result"
    },
    {
     "data": {
      "image/png": "[encoded data removed]",
      "text/plain": [
       "<Figure size 432x288 with 1 Axes>"
      ]
     },
     "metadata": {},
     "output_type": "display_data"
    }
   ],
   "source": [
    "plt.plot([x/100 for x in range(-1000, 1000)], [p1(x/100) for x in range(-1000, 1000)], 'b')\n",
    "plt.plot([x/100 for x in range(-1000, 1000)], [p2(x/100) for x in range(-1000, 1000)], 'g')\n",
    "plt.plot(data_test[target_test_true != 2], EN_poster, 'ro')\n",
    "plt.plot([x/100 for x in range(-1000, 1000)], [max((pm(x/100) - p1(x/100) * (1 - cons_alpha)) / pm(x/100), 0) \n",
    "                                               for x in range(-1000, 1000)], 'k')\n",
    "plt.ylim(0, 1)"
   ]
  },
  {
   "cell_type": "markdown",
   "metadata": {},
   "source": [
    "# nnRE"
   ]
  },
  {
   "cell_type": "code",
   "execution_count": 101,
   "metadata": {},
   "outputs": [
    {
     "name": "stdout",
     "output_type": "stream",
     "text": [
      "accuracy: 0.9768\n",
      "bac: 0.9626666666666667\n",
      "ROC-AUC: 0.9966208000000001\n",
      "brier: 0.0232\n",
      "MAE: 0.03753871459682374\n",
      "RMSE: 0.06117715419803298\n"
     ]
    }
   ],
   "source": [
    "nnre_poster = estimate_preds_cv(data_test, target_test, n_networks=1, training_mode='nnre', alpha=cons_alpha,\n",
    "                          train_nn_options={'n_epochs': 50, 'batch_size': 16, 'loss_function': 'brier',\n",
    "                                            'n_batches': 15, 'n_early_stop': 10, 'disp': False})[target_test == 1]\n",
    "\n",
    "\n",
    "nnre_realistic_poster = np.apply_along_axis(lambda x: (pm(x) - p1(x) * (1 - cons_alpha)) / pm(x), -1, \n",
    "                        data_test[target_test_true != 2].reshape(-1, ))\n",
    "\n",
    "print('accuracy:', \n",
    "      accuracy_score(target_test_true[target_test_true != 2], nnre_poster.round()))\n",
    "print('bac:', \n",
    "      balanced_accuracy_score(target_test_true[target_test_true != 2], nnre_poster.round()))\n",
    "print('ROC-AUC:',\n",
    "      roc_auc_score(target_test_true[target_test_true != 2], nnre_poster))\n",
    "print('brier:',\n",
    "      brier_score_loss(target_test_true[target_test_true != 2], nnre_poster.round()))\n",
    "print('MAE:',\n",
    "      mean_absolute_error(nnre_realistic_poster, nnre_poster))\n",
    "print('RMSE:',\n",
    "      np.sqrt(mean_squared_error(nnre_realistic_poster, nnre_poster)))"
   ]
  },
  {
   "cell_type": "code",
   "execution_count": 102,
   "metadata": {
    "scrolled": false
   },
   "outputs": [
    {
     "data": {
      "text/plain": [
       "(0, 1)"
      ]
     },
     "execution_count": 102,
     "metadata": {},
     "output_type": "execute_result"
    },
    {
     "data": {
      "image/png": "[encoded data removed]",
      "text/plain": [
       "<Figure size 432x288 with 1 Axes>"
      ]
     },
     "metadata": {},
     "output_type": "display_data"
    }
   ],
   "source": [
    "plt.plot([x/100 for x in range(-1000, 1000)], [p1(x/100) for x in range(-1000, 1000)], 'b')\n",
    "plt.plot([x/100 for x in range(-1000, 1000)], [p2(x/100) for x in range(-1000, 1000)], 'g')\n",
    "plt.plot(data_test[target_test_true != 2].flatten(), nnre_poster, 'ro')\n",
    "plt.plot([x/100 for x in range(-1000, 1000)], [max((pm(x/100) - p1(x/100) * (1 - cons_alpha)) / pm(x/100), 0) \n",
    "                                               for x in range(-1000, 1000)], 'k')\n",
    "plt.ylim(0, 1)"
   ]
  },
  {
   "cell_type": "markdown",
   "metadata": {},
   "source": [
    "# KM Proportions Estimation"
   ]
  },
  {
   "cell_type": "markdown",
   "metadata": {},
   "source": [
    "implementation is taken from http://web.eecs.umich.edu/~cscott/code.html#kmpe"
   ]
  },
  {
   "cell_type": "code",
   "execution_count": 22,
   "metadata": {
    "scrolled": true
   },
   "outputs": [],
   "source": [
    "# KM_1, KM_2 = wrapper(mix_data_test, pos_data_test, epsilon=0.04, lambda_lower_bound=0.5, lambda_upper_bound=10, \n",
    "#                      KM_1=True, KM_2=True)\n",
    "# KM_1 = 1 - KM_1\n",
    "# KM_2 = 1 - KM_2\n",
    "\n",
    "# print(KM_1)\n",
    "# print(KM_2)"
   ]
  },
  {
   "cell_type": "code",
   "execution_count": null,
   "metadata": {},
   "outputs": [],
   "source": []
  }
 ],
 "metadata": {
  "anaconda-cloud": {},
  "kernelspec": {
   "display_name": "Python 3",
   "language": "python",
   "name": "python3"
  },
  "language_info": {
   "codemirror_mode": {
    "name": "ipython",
    "version": 3
   },
   "file_extension": ".py",
   "mimetype": "text/x-python",
   "name": "python",
   "nbconvert_exporter": "python",
   "pygments_lexer": "ipython3",
   "version": "3.6.5"
  }
 },
 "nbformat": 4,
 "nbformat_minor": 2
}
